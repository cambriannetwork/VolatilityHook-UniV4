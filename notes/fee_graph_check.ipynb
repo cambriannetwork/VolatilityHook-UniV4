{
 "cells": [
  {
   "cell_type": "code",
   "execution_count": 1,
   "metadata": {},
   "outputs": [],
   "source": [
    "import json\n",
    "import matplotlib.pyplot as plt\n",
    "\n",
    "# Step 1: Load the JSON file\n",
    "with open('fees.json', 'r') as f:\n",
    "    fees = json.load(f)\n",
    "\n",
    "# Step 2: Plot the fees\n",
    "plt.figure(figsize=(10, 6))\n",
    "plt.plot(fees, marker='o', linestyle='-', color='b')\n",
    "plt.title('Fee Values in Bips')\n",
    "plt.xlabel('Index')\n",
    "plt.ylabel('Fee in Bips')\n",
    "plt.grid(True)\n",
    "\n",
    "# Step 3: Display the plot\n",
    "plt.show()\n"
   ]
  }
 ],
 "metadata": {
  "kernelspec": {
   "display_name": "Python 3",
   "language": "python",
   "name": "python3"
  },
  "language_info": {
   "codemirror_mode": {
    "name": "ipython",
    "version": 3
   },
   "file_extension": ".py",
   "mimetype": "text/x-python",
   "name": "python",
   "nbconvert_exporter": "python",
   "pygments_lexer": "ipython3",
   "version": "3.10.12"
  }
 },
 "nbformat": 4,
 "nbformat_minor": 2
}
